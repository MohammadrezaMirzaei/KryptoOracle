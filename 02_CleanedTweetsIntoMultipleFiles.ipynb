{
 "cells": [
  {
   "cell_type": "markdown",
   "metadata": {},
   "source": [
    "# Split the clean.csv file into multiple files. Compute VADER sentiment and score"
   ]
  },
  {
   "cell_type": "code",
   "execution_count": 1,
   "metadata": {},
   "outputs": [],
   "source": [
    "import pandas as pd\n",
    "from vaderSentiment.vaderSentiment import SentimentIntensityAnalyzer\n",
    "from tqdm import tnrange, tqdm_notebook, tqdm\n",
    "\n",
    "# Define the currency\n",
    "CURRENCY = \"bitcoin\"\n",
    "CURRENCY_SYMBOL = \"BTC\"\n",
    "tweets_clean_file = 'data/twitter/%s/%s_tweets_clean.csv'%(CURRENCY_SYMBOL,CURRENCY)\n",
    "path = 'data/twitter/%s'%(CURRENCY_SYMBOL) #/{CURRENCY}_tweets_clean.csv'\n"
   ]
  },
  {
   "cell_type": "markdown",
   "metadata": {},
   "source": [
    "## Read the cleaned file"
   ]
  },
  {
   "cell_type": "code",
   "execution_count": 2,
   "metadata": {},
   "outputs": [
    {
     "name": "stdout",
     "output_type": "stream",
     "text": [
      "(737554, 7)\n"
     ]
    },
    {
     "data": {
      "text/html": [
       "<div>\n",
       "<style scoped>\n",
       "    .dataframe tbody tr th:only-of-type {\n",
       "        vertical-align: middle;\n",
       "    }\n",
       "\n",
       "    .dataframe tbody tr th {\n",
       "        vertical-align: top;\n",
       "    }\n",
       "\n",
       "    .dataframe thead th {\n",
       "        text-align: right;\n",
       "    }\n",
       "</style>\n",
       "<table border=\"1\" class=\"dataframe\">\n",
       "  <thead>\n",
       "    <tr style=\"text-align: right;\">\n",
       "      <th></th>\n",
       "      <th>ID</th>\n",
       "      <th>Text</th>\n",
       "      <th>UserName</th>\n",
       "      <th>UserFollowerCount</th>\n",
       "      <th>RetweetCount</th>\n",
       "      <th>Likes</th>\n",
       "      <th>CreatedAt</th>\n",
       "    </tr>\n",
       "  </thead>\n",
       "  <tbody>\n",
       "    <tr>\n",
       "      <th>0</th>\n",
       "      <td>1161461727877165056</td>\n",
       "      <td>BTC ETH TG username</td>\n",
       "      <td>Maxie shane</td>\n",
       "      <td>60</td>\n",
       "      <td>0</td>\n",
       "      <td>0</td>\n",
       "      <td>Wed Aug 14 02:17:09 +0000 2019</td>\n",
       "    </tr>\n",
       "    <tr>\n",
       "      <th>1</th>\n",
       "      <td>1161461726975369216</td>\n",
       "      <td>RT : ♣️ Important announcement! ♣️AIO Casino: ...</td>\n",
       "      <td>merjjjj</td>\n",
       "      <td>394</td>\n",
       "      <td>75</td>\n",
       "      <td>0</td>\n",
       "      <td>Wed Aug 14 02:17:09 +0000 2019</td>\n",
       "    </tr>\n",
       "    <tr>\n",
       "      <th>2</th>\n",
       "      <td>1161461713822191617</td>\n",
       "      <td>RT : /5jypVGalN6 ® on SALE brand tech technolo...</td>\n",
       "      <td>»»TĦėDŐMAINS»»</td>\n",
       "      <td>1093</td>\n",
       "      <td>6</td>\n",
       "      <td>0</td>\n",
       "      <td>Wed Aug 14 02:17:06 +0000 2019</td>\n",
       "    </tr>\n",
       "    <tr>\n",
       "      <th>3</th>\n",
       "      <td>1161461700467601408</td>\n",
       "      <td>Bitcoin Cash BCH Current Price:$352.161 Hour: ...</td>\n",
       "      <td>aWebAnalysis</td>\n",
       "      <td>1122</td>\n",
       "      <td>0</td>\n",
       "      <td>0</td>\n",
       "      <td>Wed Aug 14 02:17:02 +0000 2019</td>\n",
       "    </tr>\n",
       "    <tr>\n",
       "      <th>4</th>\n",
       "      <td>1161461686726881281</td>\n",
       "      <td>RT : 🎁Win up to 1500 $TRX 🎁Steps:1. Retweet2. ...</td>\n",
       "      <td>merjjjj</td>\n",
       "      <td>394</td>\n",
       "      <td>97</td>\n",
       "      <td>0</td>\n",
       "      <td>Wed Aug 14 02:16:59 +0000 2019</td>\n",
       "    </tr>\n",
       "  </tbody>\n",
       "</table>\n",
       "</div>"
      ],
      "text/plain": [
       "                    ID                                               Text  \\\n",
       "0  1161461727877165056                               BTC ETH TG username    \n",
       "1  1161461726975369216  RT : ♣️ Important announcement! ♣️AIO Casino: ...   \n",
       "2  1161461713822191617  RT : /5jypVGalN6 ® on SALE brand tech technolo...   \n",
       "3  1161461700467601408  Bitcoin Cash BCH Current Price:$352.161 Hour: ...   \n",
       "4  1161461686726881281  RT : 🎁Win up to 1500 $TRX 🎁Steps:1. Retweet2. ...   \n",
       "\n",
       "         UserName  UserFollowerCount  RetweetCount  Likes  \\\n",
       "0     Maxie shane                 60             0      0   \n",
       "1         merjjjj                394            75      0   \n",
       "2  »»TĦėDŐMAINS»»               1093             6      0   \n",
       "3    aWebAnalysis               1122             0      0   \n",
       "4         merjjjj                394            97      0   \n",
       "\n",
       "                        CreatedAt  \n",
       "0  Wed Aug 14 02:17:09 +0000 2019  \n",
       "1  Wed Aug 14 02:17:09 +0000 2019  \n",
       "2  Wed Aug 14 02:17:06 +0000 2019  \n",
       "3  Wed Aug 14 02:17:02 +0000 2019  \n",
       "4  Wed Aug 14 02:16:59 +0000 2019  "
      ]
     },
     "execution_count": 2,
     "metadata": {},
     "output_type": "execute_result"
    }
   ],
   "source": [
    "df_clean = pd.read_csv(tweets_clean_file,low_memory=False)\n",
    "print(df_clean.shape)\n",
    "df_clean.head(5)"
   ]
  },
  {
   "cell_type": "code",
   "execution_count": 3,
   "metadata": {},
   "outputs": [],
   "source": [
    "df_clean = df_clean.sort_values(by='ID') # the bigger the ID, the most recent the tweet "
   ]
  },
  {
   "cell_type": "markdown",
   "metadata": {},
   "source": [
    "## Sentiment analysis with Vader\n",
    "\n",
    "VADER (Valence Aware Dictionary and sEntiment Reasoner) is a lexicon and rule-based sentiment analysis tool that is specifically attuned to sentiments expressed in social media.\n",
    "\n",
    "VADER takes into account \n",
    "- negations and contractions (not good, wasn’t good)\n",
    "- Punctuation (good!!!), CAPS, emotes :), emojis \n",
    "- Intensificators (very, kind of), acronyms ‘lol’\n",
    "- Scores between -1.0 (negative) and 1.0 (positive)\n",
    "\n",
    "We will use this sentiment analysis of the tweets to calculate a score that will represent the importance of each tweet."
   ]
  },
  {
   "cell_type": "code",
   "execution_count": 4,
   "metadata": {},
   "outputs": [
    {
     "name": "stderr",
     "output_type": "stream",
     "text": [
      "100%|██████████| 737554/737554 [03:24<00:00, 3606.01it/s]\n"
     ]
    },
    {
     "data": {
      "text/html": [
       "<div>\n",
       "<style scoped>\n",
       "    .dataframe tbody tr th:only-of-type {\n",
       "        vertical-align: middle;\n",
       "    }\n",
       "\n",
       "    .dataframe tbody tr th {\n",
       "        vertical-align: top;\n",
       "    }\n",
       "\n",
       "    .dataframe thead th {\n",
       "        text-align: right;\n",
       "    }\n",
       "</style>\n",
       "<table border=\"1\" class=\"dataframe\">\n",
       "  <thead>\n",
       "    <tr style=\"text-align: right;\">\n",
       "      <th></th>\n",
       "      <th>ID</th>\n",
       "      <th>Text</th>\n",
       "      <th>UserName</th>\n",
       "      <th>UserFollowerCount</th>\n",
       "      <th>RetweetCount</th>\n",
       "      <th>Likes</th>\n",
       "      <th>CreatedAt</th>\n",
       "      <th>compound</th>\n",
       "    </tr>\n",
       "  </thead>\n",
       "  <tbody>\n",
       "    <tr>\n",
       "      <th>737553</th>\n",
       "      <td>1150766972797366272</td>\n",
       "      <td>$BTC BTC Bitcoin Aroon Trend: 40% Bullish100% ...</td>\n",
       "      <td>Crypto Trader</td>\n",
       "      <td>733</td>\n",
       "      <td>0</td>\n",
       "      <td>0</td>\n",
       "      <td>Mon Jul 15 14:00:01 +0000 2019</td>\n",
       "      <td>0.0</td>\n",
       "    </tr>\n",
       "    <tr>\n",
       "      <th>737552</th>\n",
       "      <td>1150766972797366272</td>\n",
       "      <td>$BTC BTC Bitcoin Aroon Trend: 40% Bullish100% ...</td>\n",
       "      <td>Crypto Trader</td>\n",
       "      <td>733</td>\n",
       "      <td>0</td>\n",
       "      <td>0</td>\n",
       "      <td>Mon Jul 15 14:00:01 +0000 2019</td>\n",
       "      <td>0.0</td>\n",
       "    </tr>\n",
       "  </tbody>\n",
       "</table>\n",
       "</div>"
      ],
      "text/plain": [
       "                         ID  \\\n",
       "737553  1150766972797366272   \n",
       "737552  1150766972797366272   \n",
       "\n",
       "                                                     Text       UserName  \\\n",
       "737553  $BTC BTC Bitcoin Aroon Trend: 40% Bullish100% ...  Crypto Trader   \n",
       "737552  $BTC BTC Bitcoin Aroon Trend: 40% Bullish100% ...  Crypto Trader   \n",
       "\n",
       "        UserFollowerCount  RetweetCount  Likes  \\\n",
       "737553                733             0      0   \n",
       "737552                733             0      0   \n",
       "\n",
       "                             CreatedAt  compound  \n",
       "737553  Mon Jul 15 14:00:01 +0000 2019       0.0  \n",
       "737552  Mon Jul 15 14:00:01 +0000 2019       0.0  "
      ]
     },
     "execution_count": 4,
     "metadata": {},
     "output_type": "execute_result"
    }
   ],
   "source": [
    "analyzer = SentimentIntensityAnalyzer()\n",
    "compound = []\n",
    "for i,s in enumerate(tqdm(df_clean['Text'])):\n",
    "    vs = analyzer.polarity_scores(s)\n",
    "    compound.append(vs[\"compound\"])\n",
    "df_clean[\"compound\"] = compound\n",
    "df_clean.head(2)"
   ]
  },
  {
   "cell_type": "markdown",
   "metadata": {},
   "source": [
    "## Calculate a score for each tweet\n",
    "\n",
    "To calculate the score for each tweet, we use different variables to which we had a weight based on its importance.\n",
    "\n",
    "The compound column represents the sentiment of the tweets and its value is between -1 and 1.\n",
    "\n",
    "We also use the number of retweets, the number of likes, and the number of users that follow the tweet's author."
   ]
  },
  {
   "cell_type": "code",
   "execution_count": 6,
   "metadata": {},
   "outputs": [
    {
     "name": "stderr",
     "output_type": "stream",
     "text": [
      "100%|██████████| 737554/737554 [01:53<00:00, 6490.51it/s]\n"
     ]
    },
    {
     "data": {
      "text/html": [
       "<div>\n",
       "<style scoped>\n",
       "    .dataframe tbody tr th:only-of-type {\n",
       "        vertical-align: middle;\n",
       "    }\n",
       "\n",
       "    .dataframe tbody tr th {\n",
       "        vertical-align: top;\n",
       "    }\n",
       "\n",
       "    .dataframe thead th {\n",
       "        text-align: right;\n",
       "    }\n",
       "</style>\n",
       "<table border=\"1\" class=\"dataframe\">\n",
       "  <thead>\n",
       "    <tr style=\"text-align: right;\">\n",
       "      <th></th>\n",
       "      <th>ID</th>\n",
       "      <th>Text</th>\n",
       "      <th>UserName</th>\n",
       "      <th>UserFollowerCount</th>\n",
       "      <th>RetweetCount</th>\n",
       "      <th>Likes</th>\n",
       "      <th>CreatedAt</th>\n",
       "      <th>compound</th>\n",
       "      <th>score</th>\n",
       "    </tr>\n",
       "  </thead>\n",
       "  <tbody>\n",
       "    <tr>\n",
       "      <th>737553</th>\n",
       "      <td>1150766972797366272</td>\n",
       "      <td>$BTC BTC Bitcoin Aroon Trend: 40% Bullish100% ...</td>\n",
       "      <td>Crypto Trader</td>\n",
       "      <td>733</td>\n",
       "      <td>0</td>\n",
       "      <td>0</td>\n",
       "      <td>Mon Jul 15 14:00:01 +0000 2019</td>\n",
       "      <td>0.0</td>\n",
       "      <td>0.0</td>\n",
       "    </tr>\n",
       "    <tr>\n",
       "      <th>737552</th>\n",
       "      <td>1150766972797366272</td>\n",
       "      <td>$BTC BTC Bitcoin Aroon Trend: 40% Bullish100% ...</td>\n",
       "      <td>Crypto Trader</td>\n",
       "      <td>733</td>\n",
       "      <td>0</td>\n",
       "      <td>0</td>\n",
       "      <td>Mon Jul 15 14:00:01 +0000 2019</td>\n",
       "      <td>0.0</td>\n",
       "      <td>0.0</td>\n",
       "    </tr>\n",
       "  </tbody>\n",
       "</table>\n",
       "</div>"
      ],
      "text/plain": [
       "                         ID  \\\n",
       "737553  1150766972797366272   \n",
       "737552  1150766972797366272   \n",
       "\n",
       "                                                     Text       UserName  \\\n",
       "737553  $BTC BTC Bitcoin Aroon Trend: 40% Bullish100% ...  Crypto Trader   \n",
       "737552  $BTC BTC Bitcoin Aroon Trend: 40% Bullish100% ...  Crypto Trader   \n",
       "\n",
       "        UserFollowerCount  RetweetCount  Likes  \\\n",
       "737553                733             0      0   \n",
       "737552                733             0      0   \n",
       "\n",
       "                             CreatedAt  compound  score  \n",
       "737553  Mon Jul 15 14:00:01 +0000 2019       0.0    0.0  \n",
       "737552  Mon Jul 15 14:00:01 +0000 2019       0.0    0.0  "
      ]
     },
     "execution_count": 6,
     "metadata": {},
     "output_type": "execute_result"
    }
   ],
   "source": [
    "scores = []\n",
    "for i, s in tqdm(df_clean.iterrows(), total=df_clean.shape[0]):\n",
    "    scores.append(s[\"compound\"] * ((int(s[\"UserFollowerCount\"]))) * ((int(s[\"Likes\"])+1)) *((int(s[\"RetweetCount\"])+1)))\n",
    "df_clean[\"score\"] = scores\n",
    "df_clean.head(2)"
   ]
  },
  {
   "cell_type": "markdown",
   "metadata": {},
   "source": [
    "## Split dataframe and save it into multiple files"
   ]
  },
  {
   "cell_type": "code",
   "execution_count": 7,
   "metadata": {},
   "outputs": [],
   "source": [
    "from datetime import datetime"
   ]
  },
  {
   "cell_type": "code",
   "execution_count": 8,
   "metadata": {},
   "outputs": [
    {
     "name": "stdout",
     "output_type": "stream",
     "text": [
      "2019-07-15 14-00-01 2019-07-16 06-13-43\n",
      "2019-07-16 06-13-43 2019-07-16 19-50-03\n",
      "2019-07-16 19-50-03 2019-07-17 14-05-19\n",
      "2019-07-17 14-05-20 2019-07-18 04-52-58\n",
      "2019-07-18 04-53-04 2019-07-18 19-01-23\n",
      "2019-07-18 19-01-31 2019-07-19 14-03-10\n",
      "2019-07-19 14-03-17 2019-07-20 08-28-03\n",
      "2019-07-20 08-28-08 2019-07-21 07-01-26\n",
      "2019-07-21 07-01-37 2019-07-22 01-58-38\n",
      "2019-07-22 01-58-40 2019-07-22 17-14-33\n",
      "2019-07-22 17-14-33 2019-07-23 12-39-43\n",
      "2019-07-23 12-39-48 2019-07-24 07-42-13\n",
      "2019-07-24 07-42-15 2019-07-25 00-17-53\n",
      "2019-07-25 00-17-56 2019-07-25 19-47-10\n",
      "2019-07-25 19-47-12 2019-07-26 16-38-27\n",
      "2019-07-26 16-38-31 2019-07-27 14-20-43\n",
      "2019-07-27 14-20-59 2019-07-28 15-06-01\n",
      "2019-07-28 15-06-06 2019-07-29 12-45-52\n",
      "2019-07-29 12-45-52 2019-07-30 07-54-04\n",
      "2019-07-30 07-54-04 2019-07-31 02-45-02\n",
      "2019-07-31 02-45-04 2019-07-31 20-21-05\n",
      "2019-07-31 20-21-09 2019-08-01 16-52-37\n",
      "2019-08-01 16-52-41 2019-08-02 13-03-03\n",
      "2019-08-02 13-03-05 2019-08-03 08-02-06\n",
      "2019-08-03 08-02-07 2019-08-04 08-03-15\n",
      "2019-08-04 08-03-19 2019-08-05 04-36-44\n",
      "2019-08-05 04-36-47 2019-08-05 18-22-53\n",
      "2019-08-05 18-22-54 2019-08-06 11-25-20\n",
      "2019-08-06 11-25-20 2019-08-07 04-35-44\n",
      "2019-08-07 04-35-47 2019-08-07 21-20-19\n",
      "2019-08-07 21-20-20 2019-08-08 18-14-19\n",
      "2019-08-08 18-14-19 2019-08-09 14-56-20\n",
      "2019-08-09 14-56-20 2019-08-10 13-49-43\n",
      "2019-08-10 13-49-50 2019-08-11 14-54-42\n",
      "2019-08-11 14-54-43 2019-08-12 13-03-02\n",
      "2019-08-12 13-03-21 2019-08-13 09-38-04\n",
      "2019-08-13 09-38-07 2019-08-14 02-17-09\n"
     ]
    }
   ],
   "source": [
    "n = 20000  #chunk row size\n",
    "chunks_df = [df_clean[i:i+n] for i in range(0,df_clean.shape[0],n)]\n",
    "\n",
    "sep_char = '~'\n",
    "for chunk_df in chunks_df:\n",
    "    chunk_min = chunk_df['ID'].min()\n",
    "    chunk_max = chunk_df['ID'].max()\n",
    "    date_from = (datetime.strptime(chunk_df.iloc[0]['CreatedAt'], '%a %b %d %X %z %Y')).strftime('%Y-%m-%d %H-%M-%S')\n",
    "    date_to = (datetime.strptime(chunk_df.iloc[-1]['CreatedAt'], '%a %b %d %X %z %Y')).strftime('%Y-%m-%d %H-%M-%S')\n",
    "    print(date_from, date_to)\n",
    "\n",
    "    # Write into csv\n",
    "    chunk_df.to_csv(f\"{path}/{date_from}{sep_char}{date_to}.csv\", header=True, index=False)\n",
    "    \n"
   ]
  },
  {
   "cell_type": "markdown",
   "metadata": {},
   "source": [
    "## Update var.csv"
   ]
  },
  {
   "cell_type": "code",
   "execution_count": 9,
   "metadata": {},
   "outputs": [],
   "source": [
    "import glob\n",
    "import numpy as np\n",
    "\n",
    "ENVS = ['CRYPTO', 'LINE_COUNT', 'MOST_RECENT_FILE', 'MOST_RECENT_ID'] # Stored in var.csv\n",
    "\n",
    "def get_var(key, crypto):\n",
    "    df_var = pd.read_csv(\"data/twitter/var.csv\", sep=',', dtype={'LINE_COUNT': np.int32})\n",
    "    return df_var[key].loc[df_var['CRYPTO'] == crypto].values[0]\n",
    "\n",
    "def update_var(key, value, crypto):\n",
    "    df_var = pd.read_csv(\"data/twitter/var.csv\", sep=',', dtype={'LINE_COUNT': np.int32})\n",
    "    df_var[key].loc[df_var['CRYPTO'] == crypto] = str(value)\n",
    "    df_var.to_csv(\"data/twitter/var.csv\", index=False)\n",
    "    \n",
    "def add_new_crypto(crypto):\n",
    "    df_var = pd.read_csv(\"data/twitter/var.csv\", sep=',', dtype={'LINE_COUNT': np.int32})\n",
    "    if df_var[ENVS[0]].loc[df_var['CRYPTO'] == crypto].empty:\n",
    "        new_line = pd.DataFrame([[crypto,-1,\"\",0]], columns=ENVS)\n",
    "        df_var = df_var.append(new_line)\n",
    "        df_var.to_csv(\"data/twitter/var.csv\", index=False)"
   ]
  },
  {
   "cell_type": "code",
   "execution_count": 10,
   "metadata": {},
   "outputs": [
    {
     "name": "stdout",
     "output_type": "stream",
     "text": [
      "data/twitter/BTC/2019-08-13 09-38-07~2019-08-14 02-17-09.csv\n",
      "17553    1161461727877165056\n",
      "Name: ID, dtype: int64\n",
      "(17554, 9)\n"
     ]
    },
    {
     "name": "stderr",
     "output_type": "stream",
     "text": [
      "/usr/local/lib/python3.6/dist-packages/pandas/core/indexing.py:190: SettingWithCopyWarning: \n",
      "A value is trying to be set on a copy of a slice from a DataFrame\n",
      "\n",
      "See the caveats in the documentation: http://pandas.pydata.org/pandas-docs/stable/indexing.html#indexing-view-versus-copy\n",
      "  self._setitem_with_indexer(indexer, value)\n"
     ]
    }
   ],
   "source": [
    "files = glob.glob(\"%s/*~*.csv\"%(path))\n",
    "files = sorted(files)\n",
    "last_file = files[-1]\n",
    "print(last_file)\n",
    "last_df = pd.read_csv(last_file)\n",
    "last_elem = last_df.tail(1)\n",
    "print(last_elem['ID'])\n",
    "print(last_df.shape)\n",
    "\n",
    "add_new_crypto(CURRENCY_SYMBOL)\n",
    "update_var(ENVS[1], last_df.shape[0], CURRENCY_SYMBOL)\n",
    "update_var(ENVS[2], last_file, CURRENCY_SYMBOL)\n",
    "update_var(ENVS[3], last_elem, CURRENCY_SYMBOL)"
   ]
  },
  {
   "cell_type": "code",
   "execution_count": 11,
   "metadata": {},
   "outputs": [
    {
     "data": {
      "text/html": [
       "<div>\n",
       "<style scoped>\n",
       "    .dataframe tbody tr th:only-of-type {\n",
       "        vertical-align: middle;\n",
       "    }\n",
       "\n",
       "    .dataframe tbody tr th {\n",
       "        vertical-align: top;\n",
       "    }\n",
       "\n",
       "    .dataframe thead th {\n",
       "        text-align: right;\n",
       "    }\n",
       "</style>\n",
       "<table border=\"1\" class=\"dataframe\">\n",
       "  <thead>\n",
       "    <tr style=\"text-align: right;\">\n",
       "      <th></th>\n",
       "      <th>CRYPTO</th>\n",
       "      <th>LINE_COUNT</th>\n",
       "      <th>MOST_RECENT_FILE</th>\n",
       "      <th>MOST_RECENT_ID</th>\n",
       "    </tr>\n",
       "  </thead>\n",
       "  <tbody>\n",
       "    <tr>\n",
       "      <th>0</th>\n",
       "      <td>BTC</td>\n",
       "      <td>17554</td>\n",
       "      <td>data/twitter/BTC/2019-08-13 09-38-07~2019-08-1...</td>\n",
       "      <td>ID                  Te...</td>\n",
       "    </tr>\n",
       "  </tbody>\n",
       "</table>\n",
       "</div>"
      ],
      "text/plain": [
       "  CRYPTO  LINE_COUNT                                   MOST_RECENT_FILE  \\\n",
       "0    BTC       17554  data/twitter/BTC/2019-08-13 09-38-07~2019-08-1...   \n",
       "\n",
       "                                      MOST_RECENT_ID  \n",
       "0                          ID                  Te...  "
      ]
     },
     "execution_count": 11,
     "metadata": {},
     "output_type": "execute_result"
    }
   ],
   "source": [
    "var_df = pd.read_csv('data/twitter/var.csv')\n",
    "var_df"
   ]
  }
 ],
 "metadata": {
  "kernelspec": {
   "display_name": "Python 3",
   "language": "python",
   "name": "python3"
  },
  "language_info": {
   "codemirror_mode": {
    "name": "ipython",
    "version": 3
   },
   "file_extension": ".py",
   "mimetype": "text/x-python",
   "name": "python",
   "nbconvert_exporter": "python",
   "pygments_lexer": "ipython3",
   "version": "3.7.4"
  }
 },
 "nbformat": 4,
 "nbformat_minor": 2
}
